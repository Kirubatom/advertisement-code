{
 "cells": [
  {
   "cell_type": "code",
   "execution_count": 1,
   "id": "0dccf84e",
   "metadata": {},
   "outputs": [
    {
     "name": "stdout",
     "output_type": "stream",
     "text": [
      "   bef_ad  after_ad\n",
      "0   0.055     0.600\n",
      "1   0.127     0.767\n",
      "2   0.363     0.835\n",
      "3   0.209     0.903\n",
      "4   0.425     0.956\n"
     ]
    },
    {
     "data": {
      "text/plain": [
       "Ttest_relResult(statistic=-14.450427432816216, pvalue=0.00013331800168832762)"
      ]
     },
     "execution_count": 1,
     "metadata": {},
     "output_type": "execute_result"
    }
   ],
   "source": [
    "path=\"C:/Users/Dell/Downloads/ad excel.xlsx\"\n",
    "import pandas as pd\n",
    "df=pd.read_excel(path)\n",
    "print (df)\n",
    "df[['bef_ad','after_ad']].describe()\n",
    "from scipy import stats\n",
    "stats.shapiro(df['bef_ad'])\n",
    "stats.shapiro(df['after_ad'])\n",
    "stats.ttest_rel(df['bef_ad'],df['after_ad'])"
   ]
  },
  {
   "cell_type": "code",
   "execution_count": null,
   "id": "41d7ab04",
   "metadata": {},
   "outputs": [],
   "source": []
  }
 ],
 "metadata": {
  "kernelspec": {
   "display_name": "Python 3 (ipykernel)",
   "language": "python",
   "name": "python3"
  },
  "language_info": {
   "codemirror_mode": {
    "name": "ipython",
    "version": 3
   },
   "file_extension": ".py",
   "mimetype": "text/x-python",
   "name": "python",
   "nbconvert_exporter": "python",
   "pygments_lexer": "ipython3",
   "version": "3.9.7"
  }
 },
 "nbformat": 4,
 "nbformat_minor": 5
}
